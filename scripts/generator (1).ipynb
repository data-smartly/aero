{
 "cells": [
  {
   "cell_type": "code",
   "execution_count": 0,
   "metadata": {
    "application/vnd.databricks.v1+cell": {
     "cellMetadata": {
      "byteLimit": 2048000,
      "rowLimit": 10000
     },
     "inputWidgets": {},
     "nuid": "820784b2-6bce-4c75-8d88-7b256224929d",
     "showTitle": false,
     "title": ""
    }
   },
   "outputs": [
    {
     "output_type": "display_data",
     "data": {
      "text/plain": [
       "How many rows do you want?  3000000"
      ]
     },
     "metadata": {},
     "output_type": "display_data"
    }
   ],
   "source": [
    "#Write how many rows do you want (min. 250 000).\n",
    "User_input = int(input(\"How many rows do you want? \"))"
   ]
  },
  {
   "cell_type": "code",
   "execution_count": 0,
   "metadata": {
    "application/vnd.databricks.v1+cell": {
     "cellMetadata": {
      "byteLimit": 2048000,
      "rowLimit": 10000
     },
     "inputWidgets": {},
     "nuid": "8330c5e6-f2e5-4539-bc68-5c595fa5a00a",
     "showTitle": false,
     "title": ""
    }
   },
   "outputs": [],
   "source": [
    "#importing needed libraries and their classses\n",
    "from pyspark.sql import SparkSession\n",
    "from pyspark.sql.functions import col\n",
    "\n",
    "import pandas as pd\n",
    "from faker import Faker\n",
    "\n",
    "from sqlalchemy import create_engine\n",
    "from time import time\n",
    "import datetime\n",
    "import random\n",
    "import uuid\n",
    "\n",
    "# Create a SparkSession\n",
    "spark = SparkSession.builder.getOrCreate()\n",
    "fake = Faker()"
   ]
  },
  {
   "cell_type": "code",
   "execution_count": 0,
   "metadata": {
    "application/vnd.databricks.v1+cell": {
     "cellMetadata": {
      "byteLimit": 2048000,
      "rowLimit": 10000
     },
     "inputWidgets": {},
     "nuid": "1cf67fb4-09b7-4b35-a785-d4b80d9ee346",
     "showTitle": false,
     "title": ""
    }
   },
   "outputs": [
    {
     "output_type": "stream",
     "name": "stdout",
     "output_type": "stream",
     "text": [
      "  % Total    % Received % Xferd  Average Speed   Time    Time     Time  Current\n                                 Dload  Upload   Total   Spent    Left  Speed\n\n  0     0    0     0    0     0      0      0 --:--:-- --:--:-- --:--:--     0\n100   983  100   983    0     0  40958      0 --:--:-- --:--:-- --:--:-- 40958\nWarning: apt-key output should not be parsed (stdout is not a terminal)\nOK\n  % Total    % Received % Xferd  Average Speed   Time    Time     Time  Current\n                                 Dload  Upload   Total   Spent    Left  Speed\n\n  0     0    0     0    0     0      0      0 --:--:-- --:--:-- --:--:--     0\n100    79  100    79    0     0   2078      0 --:--:-- --:--:-- --:--:--  2078\nHit:1 https://packages.microsoft.com/ubuntu/16.04/prod xenial InRelease\nHit:2 https://repos.azul.com/zulu/deb stable InRelease\nHit:3 http://security.ubuntu.com/ubuntu focal-security InRelease\nHit:4 http://archive.ubuntu.com/ubuntu focal InRelease\nHit:5 http://archive.ubuntu.com/ubuntu focal-updates InRelease\nHit:6 http://archive.ubuntu.com/ubuntu focal-backports InRelease\nReading package lists...\nReading package lists...\nBuilding dependency tree...\nReading state information...\nmsodbcsql17 is already the newest version (17.8.1.1-1).\n0 upgraded, 0 newly installed, 0 to remove and 29 not upgraded.\n"
     ]
    }
   ],
   "source": [
    "\n",
    "%sh\n",
    "curl https://packages.microsoft.com/keys/microsoft.asc | apt-key add -\n",
    "curl https://packages.microsoft.com/config/ubuntu/16.04/prod.list > /etc/apt/sources.list.d/mssql-release.list\n",
    "sudo apt-get update\n",
    "sudo ACCEPT_EULA=Y apt-get -q -y install msodbcsql17"
   ]
  },
  {
   "cell_type": "code",
   "execution_count": 0,
   "metadata": {
    "application/vnd.databricks.v1+cell": {
     "cellMetadata": {
      "byteLimit": 2048000,
      "rowLimit": 10000
     },
     "inputWidgets": {},
     "nuid": "379c51e8-79b9-4b09-b61f-7a0b1d4478cd",
     "showTitle": false,
     "title": ""
    }
   },
   "outputs": [],
   "source": [
    "def collect_attributes(input_df, filtered_column):\n",
    "    \n",
    "    output = []\n",
    "\n",
    "    selected_values = input_df.select(filtered_column)\n",
    "    collect_selected_values = selected_values.collect()\n",
    "\n",
    "    \n",
    "    for x in collect_selected_values:\n",
    "        output.append(x[0])\n",
    "        \n",
    "    return output"
   ]
  },
  {
   "cell_type": "code",
   "execution_count": 0,
   "metadata": {
    "application/vnd.databricks.v1+cell": {
     "cellMetadata": {
      "byteLimit": 2048000,
      "rowLimit": 10000
     },
     "inputWidgets": {},
     "nuid": "eea9961c-e1da-41a5-a878-f5524695d007",
     "showTitle": false,
     "title": ""
    }
   },
   "outputs": [],
   "source": [
    "# Define the connection details\n",
    "prod_server_name = 'cat-demo-aero.database.windows.net'\n",
    "prod_port = '1433'\n",
    "prod_database_name = 'aero'\n",
    "prod_user_name = 'sqladminuser'\n",
    "prod_password = 'ThisIsOneGoodDemo8!'\n",
    "\n",
    "# SQLAlchemy connection URL for SQL Server\n",
    "prod_connection_url = f\"mssql+pyodbc://{prod_user_name}:{prod_password}@{prod_server_name}:{prod_port}/{prod_database_name}?driver=ODBC+Driver+17+for+SQL+Server\"\n",
    "\n",
    "# Create the SQLAlchemy engine\n",
    "prod_engine = create_engine(prod_connection_url)\n",
    "   "
   ]
  },
  {
   "cell_type": "code",
   "execution_count": 0,
   "metadata": {
    "application/vnd.databricks.v1+cell": {
     "cellMetadata": {
      "byteLimit": 2048000,
      "rowLimit": 10000
     },
     "inputWidgets": {},
     "nuid": "9c080eb5-4fec-4c14-b019-455e53aa93cd",
     "showTitle": false,
     "title": ""
    }
   },
   "outputs": [
    {
     "output_type": "stream",
     "name": "stdout",
     "output_type": "stream",
     "text": [
      "    DESTINATION_ID                             DESTINATION_NAME  \\\n0                1                            Frankfurt Airport   \n1                2                             Heathrow Airport   \n2                3                    Charles de Gaulle Airport   \n3                4                   Amsterdam Airport Schiphol   \n4                5                       Milan Malpensa Airport   \n5                6                    Barcelona–El Prat Airport   \n6                7          Leonardo da Vinci–Fiumicino Airport   \n7                8                       Madrid Barajas Airport   \n8                9                               Munich Airport   \n9               10                 Vienna International Airport   \n10              11                 Athens International Airport   \n11              12                       Lisbon Portela Airport   \n12              13                               Zurich Airport   \n13              14                           Copenhagen Airport   \n14              15                    Stockholm Arlanda Airport   \n15              16                               Dublin Airport   \n16              17                        Warsaw Chopin Airport   \n17              18                     Oslo Airport, Gardermoen   \n18              19                             Helsinki Airport   \n19              20                             Brussels Airport   \n20              21  Budapest Ferenc Liszt International Airport   \n21              22                               Geneva Airport   \n22              23                   Berlin Brandenburg Airport   \n23              24                     Istanbul Atatürk Airport   \n24              25                     Nice Côte d Azur Airport   \n25              26                    Palma de Mallorca Airport   \n26              27                           Manchester Airport   \n27              28                   Lyon–Saint-Exupéry Airport   \n28              29                            Edinburgh Airport   \n29              30    Kraków John Paul II International Airport   \n\n   DESTINATION_ACRONYM   DESTINATION_CITY DESTINATION_COUNTRY  \n0                  FRA          Frankfurt             Germany  \n1                  LHR             London      United Kingdom  \n2                  CDG              Paris              France  \n3                  AMS          Amsterdam         Netherlands  \n4                  MXP              Milan               Italy  \n5                  BCN          Barcelona               Spain  \n6                  FCO               Rome               Italy  \n7                  MAD             Madrid               Spain  \n8                  MUC             Munich             Germany  \n9                  VIE             Vienna             Austria  \n10                 ATH             Athens              Greece  \n11                 LIS             Lisbon            Portugal  \n12                 ZRH             Zurich         Switzerland  \n13                 CPH         Copenhagen             Denmark  \n14                 ARN          Stockholm              Sweden  \n15                 DUB             Dublin             Ireland  \n16                 WAW             Warsaw              Poland  \n17                 OSL               Oslo              Norway  \n18                 HEL           Helsinki             Finland  \n19                 BRU           Brussels             Belgium  \n20                 BUD           Budapest             Hungary  \n21                 GVA             Geneva         Switzerland  \n22                 BER             Berlin             Germany  \n23                 IST           Istanbul              Turkey  \n24                 NCE               Nice              France  \n25                 PMI  Palma de Mallorca               Spain  \n26                 MAN         Manchester      United Kingdom  \n27                 LYS               Lyon              France  \n28                 EDI          Edinburgh      United Kingdom  \n29                 KRK             Krakow              Poland  \n"
     ]
    }
   ],
   "source": [
    "\n",
    "# Read relevant data from Azure SQL Database into a DataFrame\n",
    "table_name = 'COLUMNS'\n",
    "table_schema = 'INFORMATION_SCHEMA'\n",
    "table_fullname = table_schema + \".\" + table_name\n",
    "\n",
    "information_schema_df = (spark.read\n",
    "            .format(\"jdbc\")\n",
    "            .option(\"url\", f\"jdbc:sqlserver://{prod_server_name}:{prod_port};database={prod_database_name}\")\n",
    "            .option(\"user\", prod_user_name)\n",
    "            .option(\"password\", prod_password)\n",
    "            .option(\"dbtable\", table_fullname)\n",
    "            .load())\n",
    "\n",
    "information_schema_filtered_df = information_schema_df.filter((information_schema_df.COLUMN_NAME.isin(['DESTINATION_ID', 'PLANE_ID', 'AIRLINE_ID', 'GATE_ID', 'LUGGAGE_TYPE_ID', 'TICKET_TYPE_ID']))).select(\"TABLE_SCHEMA\", \"TABLE_NAME\", \"COLUMN_NAME\").orderBy(\"TABLE_NAME\")\n",
    "\n",
    "collected_information_schema = information_schema_filtered_df.collect()\n",
    "\n",
    "# declare dictionary to store params in\n",
    "parameters = {\"AIRLINES_PARAMS\":[],\"DESTINATIONS_PARAMS\":[],\"GATES_PARAMS\":[],\"PLANES_PARAMS\":[], \"LUGGAGE_TYPE_PARAMS\": [], 'TICKET_TYPE_PARAMS': []}\n",
    "tables = {}\n",
    "# Read subtables and get data from them\n",
    "for row in collected_information_schema:\n",
    "\n",
    "    #get variables\n",
    "    table_schema = row['TABLE_SCHEMA']\n",
    "\n",
    "    table_name = row['TABLE_NAME']\n",
    "    table_fullname = table_schema + \".\" + table_name\n",
    "    column_name = row['COLUMN_NAME']\n",
    "    \n",
    "    if table_schema == \"DIM\":\n",
    "        read_table_to_df = (spark.read\n",
    "                .format(\"jdbc\")\n",
    "                .option(\"url\", f\"jdbc:sqlserver://{prod_server_name}:{prod_port};database={prod_database_name}\")\n",
    "                .option(\"user\", prod_user_name)\n",
    "                .option(\"password\", prod_password)\n",
    "                .option(\"dbtable\", table_fullname)\n",
    "                .load())\n",
    "        \n",
    "        #saving tables in dictionary of tables\n",
    "        tables[table_name] = read_table_to_df.toPandas()\n",
    "        \n",
    "        gained_params = collect_attributes(read_table_to_df,column_name)\n",
    "        parameters[table_name + \"_PARAMS\"].append(gained_params)\n",
    "#Dictionary of parameters        \n",
    "parameters = {key: value[0] if value else [] for key, value in parameters.items()}\n",
    "#print(parameters)\n",
    "print(tables[\"DESTINATIONS\"])"
   ]
  },
  {
   "cell_type": "code",
   "execution_count": 0,
   "metadata": {
    "application/vnd.databricks.v1+cell": {
     "cellMetadata": {
      "byteLimit": 2048000,
      "rowLimit": 10000
     },
     "inputWidgets": {},
     "nuid": "569bc3ca-9a83-4414-973c-bbcba0e5b100",
     "showTitle": false,
     "title": ""
    }
   },
   "outputs": [],
   "source": [
    "#Weighted list of nationalities\n",
    "\"\"\"\n",
    "weighted_nationalities = ['Czech'] * 10  # 50% Czech passengers\n",
    "weighted_nationalities += ['Slovak'] * 4  # 20% Slovak passengers\n",
    "weighted_nationalities += ['German'] * 2  # 10% German passengers\n",
    "weighted_nationalities += ['Pole'] * 1  # 5% Pole passengers\n",
    "weighted_nationalities += ['Austrian'] * 1  # 5% Austrian passengers\n",
    "weighted_nationalities += ['British'] * 1  # 5% British passengers\n",
    "weighted_nationalities += ['Other'] * 1  # 5% passengers from other nationalities\n",
    "\"\"\"\n",
    "weighted_nationalities = {\"Czech\": 8,\n",
    "                          \"Slovak\": 4,\n",
    "                          \"German\": 2,\n",
    "                          \"Pole\": 1,\n",
    "                          \"Austrian\": 1,\n",
    "                          \"British\": 1,\n",
    "                          \"Italian\":1,\n",
    "                          \"Other\": 2}\n",
    "\n",
    "\n",
    "nat_values, nat_weights = zip(*weighted_nationalities.items())\n",
    "\n",
    "# Use random.choices() to make a random selection based on the provided weights\n",
    "\n",
    "\n",
    "\n"
   ]
  },
  {
   "cell_type": "code",
   "execution_count": 0,
   "metadata": {
    "application/vnd.databricks.v1+cell": {
     "cellMetadata": {
      "byteLimit": 2048000,
      "rowLimit": 10000
     },
     "inputWidgets": {},
     "nuid": "27ccbcb8-c08a-4aa8-be8f-c7562cdcd3ae",
     "showTitle": false,
     "title": ""
    }
   },
   "outputs": [],
   "source": [
    "airports_dict = {    \n",
    "    1: ['Lufthansa', 'Eurowings', 'Ryanair'],\n",
    "    2: ['British Airways', 'EasyJet', 'Ryanair'],\n",
    "    3: ['Air France', 'EasyJet', 'Ryanair'],\n",
    "    4: ['KLM Royal Dutch Airlines', 'EasyJet', 'Ryanair'],\n",
    "    5: ['Alitalia', 'Ryanair', 'Vueling'],\n",
    "    6: ['Iberia', 'Vueling', 'Ryanair'],\n",
    "    7: ['Alitalia', 'Wizz Air', 'Vueling'],\n",
    "    8: ['Iberia', 'Vueling', 'Ryanair'],\n",
    "    9: ['Lufthansa', 'Eurowings'],\n",
    "    10: ['Ryanair', 'Wizz Air', 'Eurowings'],\n",
    "    11: ['Smartwings', 'Wizz Air', 'Ryanair'],\n",
    "    12: ['Smartwings', 'Ryanair', 'EasyJet'],\n",
    "    13: ['Swiss International Air Lines', 'EasyJet', 'Wizz Air'],\n",
    "    14: ['Scandinavian Airlines (SAS)', 'Smartwings', 'Wizz Air'],\n",
    "    15: ['Scandinavian Airlines (SAS)', 'Ryanair'],\n",
    "    16: ['Aer Lingus', 'Ryanair'],\n",
    "    17: ['LOT Polish Airlines', 'Wizz Air'],\n",
    "    18: ['Scandinavian Airlines (SAS)', 'Wizz Air', 'Smartwings'],\n",
    "    19: ['LOT Polish Airlines', 'Wizz Air', 'Ryanair'],\n",
    "    20: ['KLM Royal Dutch Airlines', 'Ryanair', 'Wizz Air'],\n",
    "    21: ['Wizz Air', 'Ryanair', 'EasyJet'],\n",
    "    22: ['Smartwings', 'Swiss International Air Lines', 'EasyJet'],\n",
    "    23: ['Lufthansa', 'Smartwings'],\n",
    "    24: ['LOT Polish Airlines', 'Smartwings', 'Wizz Air'],\n",
    "    25: ['EasyJet', 'Vueling'],\n",
    "    26: ['Iberia', 'Vueling', 'Smartwings'],\n",
    "    27: ['British Airways', 'Ryanair'],\n",
    "    28: ['Air France', 'EasyJet'],\n",
    "    29: ['British Airways', 'EasyJet', 'Ryanair'],\n",
    "    30: ['LOT Polish Airlines', 'Wizz Air'],\n",
    "}\n"
   ]
  },
  {
   "cell_type": "code",
   "execution_count": 0,
   "metadata": {
    "application/vnd.databricks.v1+cell": {
     "cellMetadata": {
      "byteLimit": 2048000,
      "rowLimit": 10000
     },
     "inputWidgets": {},
     "nuid": "cabefbfd-e6d4-44ba-981f-00cb0d6a5a4a",
     "showTitle": false,
     "title": ""
    }
   },
   "outputs": [],
   "source": [
    "# df creation\n",
    "flights_data = []\n",
    "passengers_data = []\n",
    "\n",
    "\n",
    "generated_ids = set()\n",
    "\n",
    "def createFlight(workingDate: datetime, weatherConditions: int):\n",
    "    global flights_data\n",
    "    global passengers_data\n",
    "\n",
    "    #price adjusting coefficients\n",
    "    gate_price_coef = 1\n",
    "    luggage_coef = 1\n",
    "    ticket_coef = 1\n",
    "    airline_coef = 1\n",
    "\n",
    "    gate_revenue_price = 1 \n",
    "    #delay adjusting coefficients\n",
    "    gate_delay_coef = 1 \n",
    "    delayAddonKoef = 0\n",
    "\n",
    "    #occupancy coefficients\n",
    "    monthOccupancyKoef = 1 \n",
    "    occupancyDayTimeKoef = 1\n",
    "    city_occupancy_coef = 1\n",
    "\n",
    "\n",
    "    city_weights = [10, 10, 10, 10, 9, 9, 9, 9, 8, 8, 7, 7, 6, 6, 6, 6, 5, 5, 5, 4, 4, 4, 4, 4, 3, 3, 3, 3, 3, 3]\n",
    "    #choosing random flight parameters\n",
    "    city = random.choices(parameters[\"DESTINATIONS_PARAMS\"], weights=city_weights, k=1)[0]\n",
    "    airline = random.choice(airports_dict[city])\n",
    "    airline_id = tables[\"AIRLINES\"].loc[tables[\"AIRLINES\"][\"AIRLINE_NAME\"] == airline, \"AIRLINE_ID\"].values[0]\n",
    "    aircraft = random.choice(parameters[\"PLANES_PARAMS\"])\n",
    "    gate = random.choice(parameters[\"GATES_PARAMS\"])\n",
    "    plane_capacity = tables[\"PLANES\"].loc[tables[\"PLANES\"][\"PLANE_ID\"] == aircraft, \"PLANE_CAPACITY\"].values[0]\n",
    "    \n",
    "    \n",
    "    if tables[\"GATES\"].loc[tables[\"GATES\"][\"GATE_ID\"] == gate, \"GATE_TYPE\"].values[0] == \"Jet Bridge Gate\":\n",
    "        gate_price_coef = 1.2\n",
    "        gate_revenue_price = 50000\n",
    "    else:\n",
    "        gate_delay_coef = 1.2\n",
    "        gate_revenue_price = 30000\n",
    "    \n",
    "\n",
    "    while True:\n",
    "        unique_id = random.randint(100000, 999999)\n",
    "        flightGuid = f\"XXX{unique_id}\"\n",
    "\n",
    "        if flightGuid not in generated_ids:\n",
    "            generated_ids.add(flightGuid)\n",
    "            break\n",
    "\n",
    "    hours = random.gauss(12, 5)\n",
    "    hours = max(0, min(hours, 23))\n",
    "    leavingat = datetime.time(int(hours), random.randint(0, 59), 0)\n",
    "\n",
    "    if workingDate.month in (6, 7, 8):\n",
    "        monthOccupancyKoef = 1\n",
    "    else:\n",
    "        monthOccupancyKoef = 0.9\n",
    "    \n",
    "    if city <10:\n",
    "        city_occupancy_coef = 1\n",
    "    elif city < 20:\n",
    "        city_occupancy_coef = 0.9\n",
    "    else:\n",
    "        city_occupancy_coef = 0.8\n",
    "    \n",
    "    if   0 <= hours < 7:\n",
    "        occupancyDayTimeKoef = 0.85\n",
    "    elif 7 <= hours < 12:\n",
    "        occupancyDayTimeKoef = 1.0\n",
    "    elif 12 <= hours < 17:\n",
    "        occupancyDayTimeKoef = 0.95\n",
    "    elif 17 <= hours < 22:\n",
    "        occupancyDayTimeKoef = 1.0\n",
    "    elif 22 <= hours <= 24:\n",
    "        occupancyDayTimeKoef = 0.8\n",
    "\n",
    "    totalOccupancy = 0.95 * monthOccupancyKoef * occupancyDayTimeKoef * city_occupancy_coef\n",
    "\n",
    "    # print(f\"Total Occupancy: {totalOccupancy}\")\n",
    "\n",
    "    if totalOccupancy > 1: totalOccupancy = 1\n",
    "\n",
    "\n",
    "    passengers = int(random.gauss(plane_capacity * totalOccupancy, plane_capacity * 0.15))\n",
    "    if passengers < 0 : passengers = 0\n",
    "    if passengers > plane_capacity : passengers = plane_capacity\n",
    "\n",
    "  \n",
    "    \n",
    "    ticket_price = random.gauss(2000,500)\n",
    "    if ticket_price < 200:\n",
    "        ticket_price = 200\n",
    "\n",
    "    mean_age = 35\n",
    "    age_std_dev = 15\n",
    "\n",
    "    for _ in range(passengers):\n",
    "        age = int(random.gauss(mean_age, age_std_dev))\n",
    "        age = max(2, min(age, 90)) \n",
    "        \n",
    "        first_name = fake.first_name()\n",
    "        last_name = fake.last_name()\n",
    "        age = int(random.gauss(mean_age, age_std_dev))\n",
    "        age = max(1, min(age, 90)) \n",
    "        if airline_id > 10:\n",
    "            ticket_type = 3\n",
    "            airline_coef = 0.7\n",
    "        \n",
    "        else:\n",
    "            ticket_weights = [0.1, 0.25, 0.65]\n",
    "            ticket_list = parameters[\"TICKET_TYPE_PARAMS\"]\n",
    "            ticket_type = random.choices(ticket_list, ticket_weights, k=1)[0]\n",
    "        luggage_weights = [0.3, 0.4, 0.05, 0.25]\n",
    "        luggage_list = parameters[\"LUGGAGE_TYPE_PARAMS\"]\n",
    "        luggage_type = random.choices(luggage_list, weights=luggage_weights, k=1)[0]\n",
    "        \n",
    "\n",
    "        if luggage_type == 2:\n",
    "            luggage_coef = 1.3\n",
    "        elif luggage_type == 3:\n",
    "            luggage_coef = 1.6\n",
    "        elif luggage_type == 4:\n",
    "            luggage_coef = 2.0\n",
    "\n",
    "        if ticket_type == 2:\n",
    "            ticket_coef = 3\n",
    "        elif ticket_type == 1:\n",
    "            ticket_coef = 6\n",
    "        else:\n",
    "            ticket_coef = 1\n",
    "\n",
    "        adjusted_price = int(ticket_price * luggage_coef * ticket_coef * airline_coef * gate_price_coef)\n",
    "        random_nationality = random.choices(nat_values, nat_weights)[0]\n",
    "        sys_pass = datetime.datetime.now()\n",
    "        gender_list = [\"Male\", \"Female\"]\n",
    "        gender = random.choice(gender_list)\n",
    "        new_passenger = {\n",
    "            \"FIRST_NAME\": first_name,\n",
    "            \"LAST_NAME\": last_name,\n",
    "            \"AGE\": age,\n",
    "            \"GENDER\": gender,\n",
    "            \"TICKET_PRICE\": adjusted_price,\n",
    "            \"TICKET_TYPE\": ticket_type,\n",
    "            \"LUGGAGE_TYPE\": luggage_type,\n",
    "            \"NATIONALITY\": random_nationality,\n",
    "            \"FLIGHT_NUMBER\": flightGuid,\n",
    "            \"SYS_INSERTED_DT\": sys_pass\n",
    "        }\n",
    "\n",
    "        passengers_data.append(new_passenger)\n",
    "\n",
    "    #weather involvement in delays    \n",
    "    weather_conditions = weatherConditions\n",
    "    weather_delay_coef = 1\n",
    "    if weather_conditions == 1:\n",
    "        weather_delay_coef = 1\n",
    "    elif weather_conditions == 2:\n",
    "        weather_delay_coef = 1.1\n",
    "    elif weather_conditions == 3:\n",
    "        weather_delay_coef = 1.4\n",
    "    elif weather_conditions == 4:\n",
    "        weather_delay_coef = 1.6\n",
    "    else:\n",
    "        weather_delay_coef = 2\n",
    "\n",
    "    # set delay (also base on occupancy)\n",
    "    if   0.9 <= totalOccupancy <= 1.0:\n",
    "        delayAddonKoef = 0.2\n",
    "    elif 0.8 <= hours < 0.9:\n",
    "        delayAddonKoef = 0.1\n",
    "    elif 0.6 <= hours < 0.8:\n",
    "        delayAddonKoef = 0.05\n",
    "    else:\n",
    "        delayAddonKoef = 0\n",
    "\n",
    "    delayhours = random.gauss(0, 0.5) * gate_delay_coef * weather_delay_coef + delayAddonKoef\n",
    "    delayhours = max(0, delayhours)\n",
    "    deltadelay = datetime.timedelta(hours=delayhours)\n",
    "    #deltadelayduration = (datetime.datetime.min + deltadelay).time()\n",
    "    #delay = datetime.time(deltadelayduration.hour, deltadelayduration.minute, 0)\n",
    "    delay_in_minutes = int(deltadelay.total_seconds() // 60)\n",
    "    sys_fl = datetime.datetime.now()\n",
    "\n",
    "    revenue = gate_revenue_price + (passengers * 100) \n",
    "\n",
    "    new_flight = {\n",
    "        \"DATE_OF_FLIGHT\": workingDate,\n",
    "        \"FLIGHT_NUMBER\": flightGuid,\n",
    "        \"DEPARTURE_TIME\": leavingat,\n",
    "        \"DELAY_MINUTES\": delay_in_minutes,\n",
    "        \"PASSENGERS\": passengers,\n",
    "        \"REVENUE\": revenue,\n",
    "        \"GATE_ID\": gate,\n",
    "        \"DESTINATION_ID\": city,\n",
    "        \"PLANE_ID\": aircraft,\n",
    "        \"AIRLINE_ID\": airline_id,\n",
    "        \"WEATHER_CONDITION_ID\": weather_conditions,\n",
    "        \"SYS_INSERTED_DT\": sys_fl\n",
    "    }\n",
    "\n",
    "    flights_data.append(new_flight)\n"
   ]
  },
  {
   "cell_type": "code",
   "execution_count": 0,
   "metadata": {
    "application/vnd.databricks.v1+cell": {
     "cellMetadata": {
      "byteLimit": 2048000,
      "rowLimit": 10000
     },
     "inputWidgets": {},
     "nuid": "a1075068-7d39-4351-9a57-f751922e5ebc",
     "showTitle": false,
     "title": ""
    }
   },
   "outputs": [],
   "source": [
    "UserFlights = int(User_input/27500)"
   ]
  },
  {
   "cell_type": "code",
   "execution_count": 0,
   "metadata": {
    "application/vnd.databricks.v1+cell": {
     "cellMetadata": {
      "byteLimit": 2048000,
      "rowLimit": 10000
     },
     "inputWidgets": {},
     "nuid": "a580d769-e80e-449c-9ba0-5024bbe4e107",
     "showTitle": false,
     "title": ""
    }
   },
   "outputs": [],
   "source": [
    "# Winter (December, January, February)\n",
    "winter_conditions = {\n",
    "    1: 0.3,    # Clear\n",
    "    2: 0.25,    # Cloudy\n",
    "    3: 0.1,    # Rainy\n",
    "    4: 0.25,   # Snowy\n",
    "    5: 0.1    # Stormy\n",
    "}\n",
    "\n",
    "# Spring (March, April, May)\n",
    "spring_conditions = {\n",
    "    1: 0.35,   # Clear\n",
    "    2: 0.35,    # Cloudy\n",
    "    3: 0.25,    # Rainy\n",
    "    5: 0.05     # Stormy (Assuming less frequent in spring)\n",
    "}\n",
    "\n",
    "# Summer (June, July, August)\n",
    "summer_conditions = {\n",
    "    1: 0.4,    # Clear\n",
    "    2: 0.3,    # Cloudy\n",
    "    3: 0.2,    # Rainy\n",
    "    5: 0.1    # Stormy (Assuming occasional storms in summer)\n",
    "}\n",
    "\n",
    "# Autumn (September, October, November)\n",
    "autumn_conditions = {\n",
    "    1: 0.35,   # Clear\n",
    "    2: 0.35,    # Cloudy\n",
    "    3: 0.25,    # Rainy\n",
    "    5: 0.05    # Stormy (Assuming less frequent in autumn)\n",
    "}\n",
    "\n",
    "# Combine the weather conditions and weights for each season\n",
    "winter_values, winter_weights = zip(*winter_conditions.items())\n",
    "spring_values, spring_weights = zip(*spring_conditions.items())\n",
    "summer_values, summer_weights = zip(*summer_conditions.items())\n",
    "autumn_values, autumn_weights = zip(*autumn_conditions.items())"
   ]
  },
  {
   "cell_type": "code",
   "execution_count": 0,
   "metadata": {
    "application/vnd.databricks.v1+cell": {
     "cellMetadata": {
      "byteLimit": 2048000,
      "rowLimit": 10000
     },
     "inputWidgets": {},
     "nuid": "39c4a084-adae-4ada-a663-36937f30c904",
     "showTitle": false,
     "title": ""
    }
   },
   "outputs": [
    {
     "output_type": "stream",
     "name": "stdout",
     "output_type": "stream",
     "text": [
      "2023-01-01 at 2023-07-25 10:08:47.612085\n2023-01-02 at 2023-07-25 10:08:48.384910\n2023-01-03 at 2023-07-25 10:08:49.145895\n2023-01-04 at 2023-07-25 10:08:50.401488\n2023-01-05 at 2023-07-25 10:08:51.764394\n2023-01-06 at 2023-07-25 10:08:52.903406\n2023-01-07 at 2023-07-25 10:08:54.007944\n2023-01-08 at 2023-07-25 10:08:55.191234\n2023-01-09 at 2023-07-25 10:08:56.458384\n2023-01-10 at 2023-07-25 10:08:57.872506\n2023-01-11 at 2023-07-25 10:08:58.916858\n2023-01-12 at 2023-07-25 10:09:00.576327\n2023-01-13 at 2023-07-25 10:09:02.052375\n2023-01-14 at 2023-07-25 10:09:03.531173\n2023-01-15 at 2023-07-25 10:09:04.538542\n2023-01-16 at 2023-07-25 10:09:05.806512\n2023-01-17 at 2023-07-25 10:09:06.781696\n2023-01-18 at 2023-07-25 10:09:08.210457\n2023-01-19 at 2023-07-25 10:09:09.226549\n2023-01-20 at 2023-07-25 10:09:10.389498\n2023-01-21 at 2023-07-25 10:09:11.446247\n2023-01-22 at 2023-07-25 10:09:12.339770\n2023-01-23 at 2023-07-25 10:09:13.513610\n2023-01-24 at 2023-07-25 10:09:14.290889\n2023-01-25 at 2023-07-25 10:09:15.174032\n2023-01-26 at 2023-07-25 10:09:15.996511\n2023-01-27 at 2023-07-25 10:09:17.265472\n2023-01-28 at 2023-07-25 10:09:18.391535\n2023-01-29 at 2023-07-25 10:09:19.889097\n2023-01-30 at 2023-07-25 10:09:20.755945\n2023-01-31 at 2023-07-25 10:09:21.653087\n2023-02-01 at 2023-07-25 10:09:22.749594\n2023-02-02 at 2023-07-25 10:09:23.431380\n2023-02-03 at 2023-07-25 10:09:24.328957\n2023-02-04 at 2023-07-25 10:09:25.248673\n2023-02-05 at 2023-07-25 10:09:26.129193\n2023-02-06 at 2023-07-25 10:09:27.355374\n2023-02-07 at 2023-07-25 10:09:28.678975\n2023-02-08 at 2023-07-25 10:09:29.893723\n2023-02-09 at 2023-07-25 10:09:31.397974\n2023-02-10 at 2023-07-25 10:09:32.210434\n2023-02-11 at 2023-07-25 10:09:33.500590\n2023-02-12 at 2023-07-25 10:09:34.363611\n2023-02-13 at 2023-07-25 10:09:35.198238\n2023-02-14 at 2023-07-25 10:09:36.223173\n2023-02-15 at 2023-07-25 10:09:37.123432\n2023-02-16 at 2023-07-25 10:09:38.016265\n2023-02-17 at 2023-07-25 10:09:39.116034\n2023-02-18 at 2023-07-25 10:09:40.187531\n2023-02-19 at 2023-07-25 10:09:41.634039\n2023-02-20 at 2023-07-25 10:09:42.778525\n2023-02-21 at 2023-07-25 10:09:43.629385\n2023-02-22 at 2023-07-25 10:09:44.303418\n2023-02-23 at 2023-07-25 10:09:45.655231\n2023-02-24 at 2023-07-25 10:09:46.429030\n2023-02-25 at 2023-07-25 10:09:47.326684\n2023-02-26 at 2023-07-25 10:09:48.499706\n2023-02-27 at 2023-07-25 10:09:49.581042\n2023-02-28 at 2023-07-25 10:09:50.623018\n2023-03-01 at 2023-07-25 10:09:51.450396\n2023-03-02 at 2023-07-25 10:09:52.535569\n2023-03-03 at 2023-07-25 10:09:53.638008\n2023-03-04 at 2023-07-25 10:09:54.807071\n2023-03-05 at 2023-07-25 10:09:55.924377\n2023-03-06 at 2023-07-25 10:09:57.037830\n2023-03-07 at 2023-07-25 10:09:57.788159\n2023-03-08 at 2023-07-25 10:09:59.051835\n2023-03-09 at 2023-07-25 10:10:00.718802\n2023-03-10 at 2023-07-25 10:10:02.247181\n2023-03-11 at 2023-07-25 10:10:03.103494\n2023-03-12 at 2023-07-25 10:10:04.131038\n2023-03-13 at 2023-07-25 10:10:05.142398\n2023-03-14 at 2023-07-25 10:10:06.008668\n2023-03-15 at 2023-07-25 10:10:07.167178\n2023-03-16 at 2023-07-25 10:10:08.147278\n2023-03-17 at 2023-07-25 10:10:09.452122\n2023-03-18 at 2023-07-25 10:10:10.353451\n2023-03-19 at 2023-07-25 10:10:11.467785\n2023-03-20 at 2023-07-25 10:10:12.372816\n2023-03-21 at 2023-07-25 10:10:13.679730\n2023-03-22 at 2023-07-25 10:10:14.606531\n2023-03-23 at 2023-07-25 10:10:15.430790\n2023-03-24 at 2023-07-25 10:10:16.373829\n2023-03-25 at 2023-07-25 10:10:17.745972\n2023-03-26 at 2023-07-25 10:10:19.174906\n2023-03-27 at 2023-07-25 10:10:19.970180\n2023-03-28 at 2023-07-25 10:10:21.023944\n2023-03-29 at 2023-07-25 10:10:21.816523\n2023-03-30 at 2023-07-25 10:10:22.653691\n2023-03-31 at 2023-07-25 10:10:23.991984\n2023-04-01 at 2023-07-25 10:10:25.291923\n2023-04-02 at 2023-07-25 10:10:26.212263\n2023-04-03 at 2023-07-25 10:10:27.270952\n2023-04-04 at 2023-07-25 10:10:28.313974\n2023-04-05 at 2023-07-25 10:10:29.864476\n2023-04-06 at 2023-07-25 10:10:30.863383\n2023-04-07 at 2023-07-25 10:10:31.689062\n2023-04-08 at 2023-07-25 10:10:32.758171\n2023-04-09 at 2023-07-25 10:10:33.957995\n2023-04-10 at 2023-07-25 10:10:35.324529\n2023-04-11 at 2023-07-25 10:10:36.791266\n2023-04-12 at 2023-07-25 10:10:37.850305\n2023-04-13 at 2023-07-25 10:10:39.199131\n2023-04-14 at 2023-07-25 10:10:40.051224\n2023-04-15 at 2023-07-25 10:10:41.219750\n2023-04-16 at 2023-07-25 10:10:42.511208\n2023-04-17 at 2023-07-25 10:10:43.429931\n2023-04-18 at 2023-07-25 10:10:44.750981\n2023-04-19 at 2023-07-25 10:10:46.068769\n2023-04-20 at 2023-07-25 10:10:47.513835\n2023-04-21 at 2023-07-25 10:10:48.742605\n2023-04-22 at 2023-07-25 10:10:49.762136\n2023-04-23 at 2023-07-25 10:10:50.534049\n2023-04-24 at 2023-07-25 10:10:51.572542\n2023-04-25 at 2023-07-25 10:10:52.999332\n2023-04-26 at 2023-07-25 10:10:54.018468\n2023-04-27 at 2023-07-25 10:10:55.015845\n2023-04-28 at 2023-07-25 10:10:56.260866\n2023-04-29 at 2023-07-25 10:10:57.719362\n2023-04-30 at 2023-07-25 10:10:58.912201\n2023-05-01 at 2023-07-25 10:11:00.374722\n2023-05-02 at 2023-07-25 10:11:01.532049\n2023-05-03 at 2023-07-25 10:11:02.409800\n2023-05-04 at 2023-07-25 10:11:03.405158\n2023-05-05 at 2023-07-25 10:11:04.887548\n2023-05-06 at 2023-07-25 10:11:06.286665\n2023-05-07 at 2023-07-25 10:11:07.086115\n2023-05-08 at 2023-07-25 10:11:08.141642\n2023-05-09 at 2023-07-25 10:11:08.980002\n2023-05-10 at 2023-07-25 10:11:10.144954\n2023-05-11 at 2023-07-25 10:11:11.412499\n2023-05-12 at 2023-07-25 10:11:12.421845\n2023-05-13 at 2023-07-25 10:11:13.623664\n2023-05-14 at 2023-07-25 10:11:15.045134\n2023-05-15 at 2023-07-25 10:11:15.827810\n2023-05-16 at 2023-07-25 10:11:17.158602\n2023-05-17 at 2023-07-25 10:11:18.160099\n2023-05-18 at 2023-07-25 10:11:18.951143\n2023-05-19 at 2023-07-25 10:11:19.894146\n2023-05-20 at 2023-07-25 10:11:21.167254\n2023-05-21 at 2023-07-25 10:11:21.918547\n2023-05-22 at 2023-07-25 10:11:22.728453\n2023-05-23 at 2023-07-25 10:11:23.863308\n2023-05-24 at 2023-07-25 10:11:24.696558\n2023-05-25 at 2023-07-25 10:11:25.532432\n2023-05-26 at 2023-07-25 10:11:27.039703\n2023-05-27 at 2023-07-25 10:11:27.944964\n2023-05-28 at 2023-07-25 10:11:29.374228\n2023-05-29 at 2023-07-25 10:11:30.264654\n2023-05-30 at 2023-07-25 10:11:31.086449\n2023-05-31 at 2023-07-25 10:11:32.442093\n2023-06-01 at 2023-07-25 10:11:33.879220\n2023-06-02 at 2023-07-25 10:11:36.145553\n2023-06-03 at 2023-07-25 10:11:37.558155\n2023-06-04 at 2023-07-25 10:11:39.456546\n2023-06-05 at 2023-07-25 10:11:41.051711\n2023-06-06 at 2023-07-25 10:11:42.826127\n2023-06-07 at 2023-07-25 10:11:44.100755\n2023-06-08 at 2023-07-25 10:11:45.745646\n2023-06-09 at 2023-07-25 10:11:47.271867\n2023-06-10 at 2023-07-25 10:11:49.463046\n2023-06-11 at 2023-07-25 10:11:51.654251\n2023-06-12 at 2023-07-25 10:11:53.981711\n2023-06-13 at 2023-07-25 10:11:56.041710\n2023-06-14 at 2023-07-25 10:11:58.086858\n2023-06-15 at 2023-07-25 10:11:59.407035\n2023-06-16 at 2023-07-25 10:12:01.664679\n2023-06-17 at 2023-07-25 10:12:03.594801\n2023-06-18 at 2023-07-25 10:12:05.506202\n2023-06-19 at 2023-07-25 10:12:07.987435\n2023-06-20 at 2023-07-25 10:12:09.309534\n2023-06-21 at 2023-07-25 10:12:10.897651\n2023-06-22 at 2023-07-25 10:12:12.364062\n2023-06-23 at 2023-07-25 10:12:14.369000\n2023-06-24 at 2023-07-25 10:12:16.659608\n2023-06-25 at 2023-07-25 10:12:18.331856\n2023-06-26 at 2023-07-25 10:12:20.495088\n2023-06-27 at 2023-07-25 10:12:22.072309\n2023-06-28 at 2023-07-25 10:12:23.572873\n2023-06-29 at 2023-07-25 10:12:25.267565\n2023-06-30 at 2023-07-25 10:12:27.544654\n2023-07-01 at 2023-07-25 10:12:29.556524\n2023-07-02 at 2023-07-25 10:12:31.565092\n2023-07-03 at 2023-07-25 10:12:33.363363\n2023-07-04 at 2023-07-25 10:12:34.791221\n2023-07-05 at 2023-07-25 10:12:36.408634\n2023-07-06 at 2023-07-25 10:12:38.384619\n2023-07-07 at 2023-07-25 10:12:40.542519\n2023-07-08 at 2023-07-25 10:12:42.589400\n2023-07-09 at 2023-07-25 10:12:44.617383\n2023-07-10 at 2023-07-25 10:12:46.486467\n2023-07-11 at 2023-07-25 10:12:48.384192\n2023-07-12 at 2023-07-25 10:12:50.036662\n2023-07-13 at 2023-07-25 10:12:51.828298\n2023-07-14 at 2023-07-25 10:12:53.875377\n2023-07-15 at 2023-07-25 10:12:55.214575\n2023-07-16 at 2023-07-25 10:12:56.367102\n2023-07-17 at 2023-07-25 10:12:58.124929\n2023-07-18 at 2023-07-25 10:12:59.695494\n2023-07-19 at 2023-07-25 10:13:01.373876\n2023-07-20 at 2023-07-25 10:13:03.029832\n2023-07-21 at 2023-07-25 10:13:05.245146\n2023-07-22 at 2023-07-25 10:13:06.921050\n2023-07-23 at 2023-07-25 10:13:09.054794\n2023-07-24 at 2023-07-25 10:13:10.212506\n2023-07-25 at 2023-07-25 10:13:11.758574\n2023-07-26 at 2023-07-25 10:13:12.945709\n2023-07-27 at 2023-07-25 10:13:14.199952\n2023-07-28 at 2023-07-25 10:13:15.957190\n2023-07-29 at 2023-07-25 10:13:17.820648\n2023-07-30 at 2023-07-25 10:13:19.950281\n2023-07-31 at 2023-07-25 10:13:21.098056\n2023-08-01 at 2023-07-25 10:13:22.715607\n2023-08-02 at 2023-07-25 10:13:24.966559\n2023-08-03 at 2023-07-25 10:13:26.909945\n2023-08-04 at 2023-07-25 10:13:28.796389\n2023-08-05 at 2023-07-25 10:13:29.898831\n2023-08-06 at 2023-07-25 10:13:31.849560\n2023-08-07 at 2023-07-25 10:13:33.112869\n2023-08-08 at 2023-07-25 10:13:35.024208\n2023-08-09 at 2023-07-25 10:13:37.112784\n2023-08-10 at 2023-07-25 10:13:39.062960\n2023-08-11 at 2023-07-25 10:13:40.392128\n2023-08-12 at 2023-07-25 10:13:41.572052\n2023-08-13 at 2023-07-25 10:13:43.885530\n2023-08-14 at 2023-07-25 10:13:45.444630\n2023-08-15 at 2023-07-25 10:13:47.300391\n2023-08-16 at 2023-07-25 10:13:49.086206\n2023-08-17 at 2023-07-25 10:13:50.674821\n2023-08-18 at 2023-07-25 10:13:52.172754\n2023-08-19 at 2023-07-25 10:13:54.303912\n2023-08-20 at 2023-07-25 10:13:56.185689\n2023-08-21 at 2023-07-25 10:13:57.805614\n2023-08-22 at 2023-07-25 10:13:59.379577\n2023-08-23 at 2023-07-25 10:14:00.471771\n2023-08-24 at 2023-07-25 10:14:02.130841\n2023-08-25 at 2023-07-25 10:14:04.135180\n2023-08-26 at 2023-07-25 10:14:05.619719\n2023-08-27 at 2023-07-25 10:14:08.056720\n2023-08-28 at 2023-07-25 10:14:09.799805\n2023-08-29 at 2023-07-25 10:14:11.438688\n2023-08-30 at 2023-07-25 10:14:13.014578\n2023-08-31 at 2023-07-25 10:14:14.343873\n2023-09-01 at 2023-07-25 10:14:16.192201\n2023-09-02 at 2023-07-25 10:14:17.388183\n2023-09-03 at 2023-07-25 10:14:18.298325\n2023-09-04 at 2023-07-25 10:14:19.346445\n2023-09-05 at 2023-07-25 10:14:20.104231\n2023-09-06 at 2023-07-25 10:14:20.865342\n2023-09-07 at 2023-07-25 10:14:22.335603\n2023-09-08 at 2023-07-25 10:14:23.489035\n2023-09-09 at 2023-07-25 10:14:24.393823\n2023-09-10 at 2023-07-25 10:14:25.361393\n2023-09-11 at 2023-07-25 10:14:26.310766\n2023-09-12 at 2023-07-25 10:14:27.375247\n2023-09-13 at 2023-07-25 10:14:28.186036\n2023-09-14 at 2023-07-25 10:14:29.588670\n2023-09-15 at 2023-07-25 10:14:30.774482\n2023-09-16 at 2023-07-25 10:14:32.073597\n2023-09-17 at 2023-07-25 10:14:33.542796\n2023-09-18 at 2023-07-25 10:14:34.941776\n2023-09-19 at 2023-07-25 10:14:35.998051\n2023-09-20 at 2023-07-25 10:14:37.073098\n2023-09-21 at 2023-07-25 10:14:37.937090\n2023-09-22 at 2023-07-25 10:14:39.389310\n2023-09-23 at 2023-07-25 10:14:40.175971\n2023-09-24 at 2023-07-25 10:14:41.177420\n2023-09-25 at 2023-07-25 10:14:42.317322\n2023-09-26 at 2023-07-25 10:14:42.958569\n2023-09-27 at 2023-07-25 10:14:44.023088\n2023-09-28 at 2023-07-25 10:14:44.962913\n2023-09-29 at 2023-07-25 10:14:45.795285\n2023-09-30 at 2023-07-25 10:14:46.452637\n2023-10-01 at 2023-07-25 10:14:47.905966\n2023-10-02 at 2023-07-25 10:14:49.213048\n2023-10-03 at 2023-07-25 10:14:50.223070\n2023-10-04 at 2023-07-25 10:14:51.143039\n2023-10-05 at 2023-07-25 10:14:52.616857\n2023-10-06 at 2023-07-25 10:14:53.749655\n2023-10-07 at 2023-07-25 10:14:54.768511\n2023-10-08 at 2023-07-25 10:14:55.957363\n2023-10-09 at 2023-07-25 10:14:56.668384\n2023-10-10 at 2023-07-25 10:14:57.782405\n2023-10-11 at 2023-07-25 10:14:58.773682\n2023-10-12 at 2023-07-25 10:14:59.688665\n2023-10-13 at 2023-07-25 10:15:00.544911\n2023-10-14 at 2023-07-25 10:15:01.861047\n2023-10-15 at 2023-07-25 10:15:02.968236\n2023-10-16 at 2023-07-25 10:15:04.542347\n2023-10-17 at 2023-07-25 10:15:05.869124\n2023-10-18 at 2023-07-25 10:15:07.081794\n2023-10-19 at 2023-07-25 10:15:08.467416\n2023-10-20 at 2023-07-25 10:15:09.362819\n2023-10-21 at 2023-07-25 10:15:10.793042\n2023-10-22 at 2023-07-25 10:15:11.726374\n2023-10-23 at 2023-07-25 10:15:12.743392\n2023-10-24 at 2023-07-25 10:15:13.855456\n2023-10-25 at 2023-07-25 10:15:14.686795\n2023-10-26 at 2023-07-25 10:15:15.639212\n2023-10-27 at 2023-07-25 10:15:16.825562\n2023-10-28 at 2023-07-25 10:15:18.056942\n2023-10-29 at 2023-07-25 10:15:19.385324\n2023-10-30 at 2023-07-25 10:15:20.756878\n2023-10-31 at 2023-07-25 10:15:21.928169\n2023-11-01 at 2023-07-25 10:15:22.903689\n2023-11-02 at 2023-07-25 10:15:23.853172\n2023-11-03 at 2023-07-25 10:15:24.929538\n2023-11-04 at 2023-07-25 10:15:25.994665\n2023-11-05 at 2023-07-25 10:15:27.329747\n2023-11-06 at 2023-07-25 10:15:27.967188\n2023-11-07 at 2023-07-25 10:15:29.073471\n2023-11-08 at 2023-07-25 10:15:30.051792\n2023-11-09 at 2023-07-25 10:15:31.025960\n2023-11-10 at 2023-07-25 10:15:32.227980\n2023-11-11 at 2023-07-25 10:15:33.408472\n2023-11-12 at 2023-07-25 10:15:34.481015\n2023-11-13 at 2023-07-25 10:15:35.422749\n2023-11-14 at 2023-07-25 10:15:36.606809\n2023-11-15 at 2023-07-25 10:15:37.930266\n2023-11-16 at 2023-07-25 10:15:39.472436\n2023-11-17 at 2023-07-25 10:15:40.454506\n2023-11-18 at 2023-07-25 10:15:41.804968\n2023-11-19 at 2023-07-25 10:15:42.758229\n2023-11-20 at 2023-07-25 10:15:43.458190\n2023-11-21 at 2023-07-25 10:15:44.905388\n2023-11-22 at 2023-07-25 10:15:45.924992\n2023-11-23 at 2023-07-25 10:15:47.196467\n2023-11-24 at 2023-07-25 10:15:48.656001\n2023-11-25 at 2023-07-25 10:15:50.146129\n2023-11-26 at 2023-07-25 10:15:51.218601\n2023-11-27 at 2023-07-25 10:15:52.179575\n2023-11-28 at 2023-07-25 10:15:53.137967\n2023-11-29 at 2023-07-25 10:15:54.615380\n2023-11-30 at 2023-07-25 10:15:55.581287\n2023-12-01 at 2023-07-25 10:15:56.900558\n2023-12-02 at 2023-07-25 10:15:58.389620\n2023-12-03 at 2023-07-25 10:15:59.576410\n2023-12-04 at 2023-07-25 10:16:00.970127\n2023-12-05 at 2023-07-25 10:16:02.344369\n2023-12-06 at 2023-07-25 10:16:03.965894\n2023-12-07 at 2023-07-25 10:16:05.408531\n2023-12-08 at 2023-07-25 10:16:06.731534\n2023-12-09 at 2023-07-25 10:16:07.956275\n2023-12-10 at 2023-07-25 10:16:08.890826\n2023-12-11 at 2023-07-25 10:16:10.088202\n2023-12-12 at 2023-07-25 10:16:11.990408\n2023-12-13 at 2023-07-25 10:16:13.390777\n2023-12-14 at 2023-07-25 10:16:14.694909\n2023-12-15 at 2023-07-25 10:16:16.091220\n2023-12-16 at 2023-07-25 10:16:17.427633\n2023-12-17 at 2023-07-25 10:16:19.173018\n2023-12-18 at 2023-07-25 10:16:20.327608\n2023-12-19 at 2023-07-25 10:16:22.185073\n2023-12-20 at 2023-07-25 10:16:23.595307\n2023-12-21 at 2023-07-25 10:16:24.712589\n2023-12-22 at 2023-07-25 10:16:25.992894\n2023-12-23 at 2023-07-25 10:16:26.873387\n2023-12-24 at 2023-07-25 10:16:28.174168\n2023-12-25 at 2023-07-25 10:16:29.167045\n2023-12-26 at 2023-07-25 10:16:30.203000\n2023-12-27 at 2023-07-25 10:16:31.063840\n2023-12-28 at 2023-07-25 10:16:32.958151\n2023-12-29 at 2023-07-25 10:16:34.121684\n2023-12-30 at 2023-07-25 10:16:35.721595\n2023-12-31 at 2023-07-25 10:16:36.674144\nOut[37]: 167"
     ]
    }
   ],
   "source": [
    "\n",
    "\n",
    "initialDate = datetime.date(2023,1,1)\n",
    "finalDate = datetime.date(2023,12,31)\n",
    "summer_flights_ratio = int(UserFlights * 1.2)\n",
    "december_flights_ratio = UserFlights\n",
    "normal_flights_ratio = int(UserFlights * 0.8)\n",
    "summer_fligts_min = int(UserFlights * 0.6)\n",
    "december_flights_min = int(UserFlights * 0.5)\n",
    "normal_flights_min = int(UserFlights * 0.4)\n",
    "\n",
    "FlightsMin = 10\n",
    "#generating flights between initial and final date\n",
    "workingDate = initialDate\n",
    "while workingDate <= finalDate:\n",
    "    print (str(workingDate) + \" at \" + str(datetime.datetime.now()))\n",
    "    #Summer\n",
    "    if workingDate.month in (6,7,8):\n",
    "        weather_con = random.choices(summer_values, summer_weights)[0]\n",
    "        flightsPerDayRandomAddon = summer_flights_ratio\n",
    "        FlightsMin = summer_fligts_min\n",
    "    #Spring        \n",
    "    elif workingDate.month in (3, 4, 5):\n",
    "        weather_con = random.choices(spring_values, spring_weights)[0]\n",
    "        flightsPerDayRandomAddon = normal_flights_ratio\n",
    "        FlightsMin = normal_flights_min\n",
    "    #Autumn        \n",
    "    elif workingDate.month in (9, 10, 11):\n",
    "        weather_con = random.choices(autumn_values, autumn_weights)[0]\n",
    "        flightsPerDayRandomAddon = normal_flights_ratio\n",
    "        FlightsMin = normal_flights_min\n",
    "\n",
    "    #Winter\n",
    "    elif workingDate.month in (12, 1, 2):\n",
    "        weather_con = random.choices(winter_values, winter_weights)[0]\n",
    "        if workingDate.month == 12:\n",
    "            flightsPerDayRandomAddon = december_flights_ratio \n",
    "            FlightsMin = december_flights_min\n",
    "        else:    \n",
    "            flightsPerDayRandomAddon = normal_flights_ratio\n",
    "            FlightsMin = normal_flights_min\n",
    "\n",
    "    \n",
    "    flightsPerDay = random.randint(FlightsMin, flightsPerDayRandomAddon) \n",
    "    i = 1\n",
    "\n",
    "    while i < flightsPerDay:\n",
    "        #here we create each flight\n",
    "        createFlight(workingDate, weather_con)\n",
    "        i += 1\n",
    "        #end of flight per day\n",
    "\n",
    "    #end of the major cycle\n",
    "    workingDate = workingDate + datetime.timedelta(days=1)\n",
    "\n",
    "\n",
    "passengers_df = pd.DataFrame(passengers_data, columns=[\"FIRST_NAME\", \"LAST_NAME\", \"AGE\", \"GENDER\", \"TICKET_PRICE\", \"TICKET_TYPE\", \"LUGGAGE_TYPE\", \"NATIONALITY\", \"FLIGHT_NUMBER\", \"SYS_INSERTED_DT\"])\n",
    "flights = pd.DataFrame(flights_data, columns=[\"DATE_OF_FLIGHT\", \"FLIGHT_NUMBER\", \"DEPARTURE_TIME\", \"DELAY_MINUTES\", \"PASSENGERS\", \"REVENUE\", \"GATE_ID\", \"DESTINATION_ID\", \"PLANE_ID\", \"AIRLINE_ID\", \"WEATHER_CONDITION_ID\", \"SYS_INSERTED_DT\"])\n",
    "\n",
    "\n",
    "#print(flights)\n",
    "passengers_df.index = pd.RangeIndex(start=1, stop=len(passengers_df) + 1)\n",
    "#Fact tables insert\n",
    "passengers_df.to_sql('PASSENGERS', con=prod_engine, if_exists=\"replace\", index=True, schema=\"FACT\", index_label=\"ID\")\n",
    "flights.to_sql('DEPARTURES', con=prod_engine, if_exists=\"replace\", index=False, schema=\"FACT\")\n",
    "#Stage tables insert\n",
    "passengers_df.to_sql('PASSENGERS', con=prod_engine, if_exists=\"replace\", index=True, schema=\"STAGE\", index_label=\"ID\")\n",
    "flights.to_sql('DEPARTURES', con=prod_engine, if_exists=\"replace\", index=False, schema=\"STAGE\")\n"
   ]
  }
 ],
 "metadata": {
  "application/vnd.databricks.v1+notebook": {
   "dashboards": [],
   "language": "python",
   "notebookMetadata": {
    "mostRecentlyExecutedCommandWithImplicitDF": {
     "commandId": 926750281356655,
     "dataframes": [
      "_sqldf"
     ]
    },
    "pythonIndentUnit": 4
   },
   "notebookName": "generator",
   "widgets": {}
  }
 },
 "nbformat": 4,
 "nbformat_minor": 0
}
